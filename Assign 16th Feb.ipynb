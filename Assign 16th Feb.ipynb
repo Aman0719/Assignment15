{
 "cells": [
  {
   "cell_type": "code",
   "execution_count": null,
   "id": "2bffbe8a-49b0-4ecf-8c52-72f087b07d63",
   "metadata": {},
   "outputs": [],
   "source": [
    "Q1.What is a database? Differentiate between SQL and NoSQL databases.\n",
    "\n",
    "Ans-\n",
    "\n",
    "A database is a structured collection of data that is organized and stored in a way that enables efficient retrieval and manipulation of the data.\n",
    "Databases are used in a wide range of applications, such as web-based applications, mobile apps, and enterprise systems.\n",
    "\n",
    "SQL and NoSQL are two different types of databases that differ in their data models and query languages.\n",
    "\n",
    "SQL (Structured Query Language) \n",
    "databases are relational databases that use tables to store data, where each table represents an entity or relationship between entities. \n",
    "SQL databases use a structured query language (SQL) to manipulate and retrieve data, and are based on the relational data model. \n",
    "SQL databases are known for their ability to handle complex queries and transactions, and are often used in enterprise applications where data consistency and transactional integrity are critical.\n",
    "\n",
    "NoSQL (Not Only SQL) \n",
    "databases are non-relational databases that use various data models, such as document-based, key-value, graph-based, or column-family, to store data.\n",
    "Unlike SQL databases, NoSQL databases do not use a fixed schema, allowing for greater flexibility and scalability. \n",
    "NoSQL databases are often used in modern web applications and big data systems, where scalability and high availability are more important than strict consistency.\n",
    "\n",
    "In summary, SQL databases are based on a structured data model, use a structured query language, and are typically used in enterprise applications, whereas NoSQL databases use various data models, are more flexible, and are often used in modern web applications and big data systems"
   ]
  },
  {
   "cell_type": "code",
   "execution_count": null,
   "id": "93fcd610-1a5b-487b-9ca8-23d8a566bc46",
   "metadata": {},
   "outputs": [],
   "source": [
    "Q2. What is DDL? Explain why CREATE, DROP, ALTER, and TRUNCATE are used with an example.\n",
    "\n",
    "Ans-\n",
    "\n",
    "DDL stands for Data Definition Language and is a subset of SQL (Structured Query Language) that is used to define and manipulate the structure of database objects such as tables, views, indexes, and other schema objects. \n",
    "DDL statements are used to create, modify, and delete database objects.\n",
    "\n"
   ]
  },
  {
   "cell_type": "code",
   "execution_count": null,
   "id": "7d758efe-1c8f-4e89-931c-a7e5976b1e24",
   "metadata": {},
   "outputs": [],
   "source": [
    "#1.CREATE: \n",
    "\"\"\"The CREATE statement is used to create a new database object, such as a table, view, or index. \n",
    "For example, the following statement creates a new table named \"employees\" with columns for employee ID, name, and salary:\"\"\"\n",
    "    \n",
    "CREATE TABLE employees (\n",
    "   emp_id INT PRIMARY KEY,\n",
    "   emp_name VARCHAR(50),\n",
    "   emp_salary FLOAT\n",
    ");"
   ]
  },
  {
   "cell_type": "code",
   "execution_count": null,
   "id": "31f48818-1018-4374-996c-10a87b4dc543",
   "metadata": {},
   "outputs": [],
   "source": [
    "#2.DROP:\n",
    "The DROP statement is used to remove an existing database object, such as a table or view. \n",
    "For example, the following statement drops the \"employees\" table:\n",
    "    \n",
    "DROP TABLE employees;\n"
   ]
  },
  {
   "cell_type": "code",
   "execution_count": null,
   "id": "75b85650-daf1-4670-bc51-d32909943f85",
   "metadata": {},
   "outputs": [],
   "source": [
    "#3.ALTER: \n",
    "The ALTER statement is used to modify an existing database object, such as a table, view, or index.\n",
    "For example, the following statement adds a new column \"emp_department\" to the \"employees\" table:\n",
    "    \n",
    "ALTER TABLE employees\n",
    "ADD emp_department VARCHAR(50);\n"
   ]
  },
  {
   "cell_type": "code",
   "execution_count": null,
   "id": "1c670575-704e-47cc-9eaa-f5b32148813c",
   "metadata": {},
   "outputs": [],
   "source": [
    "#4.TRUNCATE:\n",
    "The TRUNCATE statement is used to delete all rows from a table, while keeping the table structure intact.\n",
    "For example, the following statement removes all rows from the \"employees\" table:\n",
    "\n",
    "TRUNCATE TABLE employees;\n"
   ]
  },
  {
   "cell_type": "code",
   "execution_count": null,
   "id": "d5bec627-a7c9-4f0c-b8f7-bf1857756915",
   "metadata": {},
   "outputs": [],
   "source": [
    "Q3. What is DML? Explain INSERT, UPDATE, and DELETE with an example.\n",
    "\n",
    "Ans-\n",
    "DML stands for Data Manipulation Language and is a subset of SQL (Structured Query Language) that is used to manipulate the data stored in a database. \n",
    "DML statements are used to insert, update, delete, and retrieve data from database tables.\n"
   ]
  },
  {
   "cell_type": "code",
   "execution_count": null,
   "id": "eac4833c-8c84-496f-8594-8c5396526f27",
   "metadata": {},
   "outputs": [],
   "source": [
    "#1.INSERT: \n",
    "The INSERT statement is used to add new rows of data to a database table. \n",
    "For example, the following statement adds a new row of data to the \"employees\" table:\n",
    "    \n",
    "INSERT INTO employees (emp_id, emp_name, emp_salary) VALUES (101, 'Amandeep', 50000);\n"
   ]
  },
  {
   "cell_type": "code",
   "execution_count": null,
   "id": "b0fe0c86-3e95-4c6f-bbc1-ab5af9402e8c",
   "metadata": {},
   "outputs": [],
   "source": [
    "#2.UPDATE: \n",
    "The UPDATE statement is used to modify existing data in a database table. \n",
    "For example, the following statement updates the salary of the employee with ID 101 in the \"employees\" table:\n",
    "    \n",
    "UPDATE employees SET emp_salary = 55000 WHERE emp_id = 101;\n"
   ]
  },
  {
   "cell_type": "code",
   "execution_count": null,
   "id": "409c7299-6555-4c92-8b24-3aa0ba3d53a1",
   "metadata": {},
   "outputs": [],
   "source": [
    "#3.DELETE:\n",
    "The DELETE statement is used to remove rows of data from a database table. \n",
    "For example, the following statement deletes the employee with ID 101 from the \"employees\" table:\n",
    "    \n",
    "DELETE FROM employees WHERE emp_id = 101;\n"
   ]
  },
  {
   "cell_type": "code",
   "execution_count": null,
   "id": "b7fec049-d82e-4a32-bcaf-7419525e6330",
   "metadata": {},
   "outputs": [],
   "source": [
    "Q4. What is DQL? Explain SELECT with an example.\n",
    "\n",
    "Ans-\n",
    "\n",
    "DQL stands for Data Query Language and is a subset of SQL (Structured Query Language) that is used to retrieve data from a database. \n",
    "DQL statements are used to query the database tables to retrieve the required data.\n",
    "\n",
    "The most commonly used DQL statement is the SELECT statement, which is used to retrieve data from one or more database tables. \n",
    "The SELECT statement allows you to specify the columns that you want to retrieve, as well as any filters, sorting, grouping, and joining conditions."
   ]
  },
  {
   "cell_type": "code",
   "execution_count": null,
   "id": "d749af30-48af-4058-996e-d40830697fab",
   "metadata": {},
   "outputs": [],
   "source": [
    "\"\"\"Here is an example of a SELECT statement that retrieves all the employee names and salaries from the \"employees\" table:\"\"\"\n",
    "\n",
    "SELECT emp_name, emp_salary\n",
    "FROM employees;\n",
    "\n",
    "We can also use the WHERE clause to filter the results based on specific conditions. \n",
    "For example, the following statement retrieves the names and salaries of employees who earn more than $50000 per year:\n",
    "    \n",
    "SELECT emp_name, emp_salary\n",
    "FROM employees\n",
    "WHERE emp_salary > 50000;\n"
   ]
  },
  {
   "cell_type": "code",
   "execution_count": null,
   "id": "740d40ca-8ce0-4906-9ae8-3252d3356357",
   "metadata": {},
   "outputs": [],
   "source": [
    "Q5. Explain Primary Key and Foreign Key.\n",
    "\n",
    "Ans-\n",
    "\n",
    "Primary key and foreign key are both important concepts in database design that are used to establish relationships between database tables.\n",
    "\n",
    "Primary Key\n",
    "A primary key is a column or set of columns in a database table that uniquely identifies each row in the table. \n",
    "A primary key is used to ensure that each row in the table can be identified and accessed in a unique way. \n",
    "A primary key must be unique, non-null, and not changeable. By convention, primary keys are often named \"id\" or \"name of the table\" followed by \"_id\".\n",
    "\n",
    "For example, in a database that stores information about employees, the \"emp_id\" column can be defined as the primary key for the \"employees\" table. \n",
    "This ensures that each employee in the table can be uniquely identified by their employee ID.\n",
    "\n",
    "\n",
    "Foreign Key\n",
    "A foreign key is a column or set of columns in a database table that refers to the primary key of another table. \n",
    "A foreign key establishes a relationship between two tables, allowing data from one table to be linked to data from another table. \n",
    "The foreign key column in one table references the primary key column in another table. \n",
    "This allows you to create a link between the two tables, enabling you to retrieve data from both tables using a single query.\n",
    "\n",
    "For example, in a database that stores information about employees and their departments, the \"emp_dept_id\" column can be defined as a foreign key in the \"employees\" table, referencing the primary key \"dept_id\" in the \"departments\" table. \n",
    "This establishes a relationship between the \"employees\" and \"departments\" tables, allowing you to retrieve data about employees and their departments using a single query."
   ]
  },
  {
   "cell_type": "code",
   "execution_count": null,
   "id": "ccfefaa8-ed4a-4ef3-9ce7-b2043ebf5cf5",
   "metadata": {},
   "outputs": [],
   "source": [
    "Q6. Write a python code to connect MySQL to python. Explain the cursor() and execute() method.\n",
    "\n",
    "Ans-\n",
    "Here's an example Python code to connect MySQL to Python using the mysql-connector-python module:\n",
    "\n",
    "import mysql.connector\n",
    "\n",
    "# Establish connection to MySQL database\n",
    "mydb = mysql.connector.connect(\n",
    "  host=\"localhost\",\n",
    "  user=\"yourusername\",\n",
    "  password=\"yourpassword\",\n",
    "  database=\"yourdatabase\"\n",
    ")\n",
    "\n",
    "# Create a cursor object\n",
    "mycursor = mydb.cursor()\n",
    "\n",
    "# Execute a SQL query\n",
    "mycursor.execute(\"CREATE DATABASE if not exists test2\")\n",
    "\n",
    "# Fetch the results\n",
    "results = mycursor.fetchall()\n",
    "\n",
    "# Print the results\n",
    "for result in results:\n",
    "  print(result)\n",
    "\n",
    "mydb.close()"
   ]
  },
  {
   "cell_type": "code",
   "execution_count": null,
   "id": "156c3a02-3e1e-424e-8c56-c32e59f6124a",
   "metadata": {},
   "outputs": [],
   "source": [
    "cursor():\n",
    "The cursor() method is used to create a cursor object, which is used to execute SQL queries and retrieve results from the database. \n",
    "The cursor object provides methods such as execute(), fetchone(), and fetchall() for executing queries and retrieving results.\n",
    "\n",
    "When you call the cursor() method, a new cursor object is created and returned. \n",
    "This cursor object is associated with a particular database connection, so any queries you execute using the cursor object will be executed on that database connection.\n",
    "\n",
    "\n",
    "execute():\n",
    "The execute() method is used to execute a SQL query on the database. \n",
    "It takes a string argument that contains the SQL query to be executed. \n",
    "The query can be a SELECT, INSERT, UPDATE, or DELETE statement.\n",
    "\n",
    "When you call the execute() method on a cursor object, the query is executed on the database connection associated with that cursor object. \n",
    "The result of the query (if any) is stored in the cursor object, and can be retrieved using the fetchone() or fetchall() methods."
   ]
  },
  {
   "cell_type": "code",
   "execution_count": null,
   "id": "6c252d67-e31e-42fc-87ea-415af1bc9e19",
   "metadata": {},
   "outputs": [],
   "source": [
    "Q7. Give the order of execution of SQL clauses in an SQL query.\n",
    "\n",
    "Ans-\n",
    "\n",
    "In an SQL query, the clauses are executed in the following order:\n",
    "    \n",
    "1. SELECT: specifies the columns to retrieve from the database\n",
    "2. FROM: specifies the table(s) to retrieve data from\n",
    "3. JOIN: specifies how to combine data from multiple tables\n",
    "4. WHERE: filters the results based on a condition\n",
    "5. GROUP BY: groups the results by one or more columns\n",
    "6. HAVING: filters the results of a GROUP BY query based on a condition\n",
    "7. ORDER BY: sorts the results based on one or more columns\n",
    "\n",
    "However, not all clauses are required in every SQL query. \n",
    "The basic structure of an SQL query includes only the SELECT and FROM clauses, but you can add other clauses as needed to filter, group, or sort the results."
   ]
  }
 ],
 "metadata": {
  "kernelspec": {
   "display_name": "Python 3 (ipykernel)",
   "language": "python",
   "name": "python3"
  },
  "language_info": {
   "codemirror_mode": {
    "name": "ipython",
    "version": 3
   },
   "file_extension": ".py",
   "mimetype": "text/x-python",
   "name": "python",
   "nbconvert_exporter": "python",
   "pygments_lexer": "ipython3",
   "version": "3.10.8"
  }
 },
 "nbformat": 4,
 "nbformat_minor": 5
}
